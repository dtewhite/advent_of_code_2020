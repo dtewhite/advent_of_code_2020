{
 "cells": [
  {
   "cell_type": "code",
   "execution_count": 1,
   "metadata": {
    "scrolled": true
   },
   "outputs": [],
   "source": [
    "import csv"
   ]
  },
  {
   "cell_type": "code",
   "execution_count": 2,
   "metadata": {},
   "outputs": [],
   "source": [
    "numbers = []\n",
    "with open('../Input/resource.csv') as f:\n",
    "    cf = csv.reader(f)\n",
    "    for row in cf:\n",
    "        numbers.append(int(row[0]))"
   ]
  },
  {
   "cell_type": "code",
   "execution_count": 3,
   "metadata": {},
   "outputs": [],
   "source": [
    "sum = 2020\n",
    "first = 0\n",
    "second = 0"
   ]
  },
  {
   "cell_type": "code",
   "execution_count": 4,
   "metadata": {},
   "outputs": [
    {
     "name": "stdout",
     "output_type": "stream",
     "text": [
      "Pair is  1184  and  836\n",
      "Pair is  836  and  1184\n"
     ]
    }
   ],
   "source": [
    "for i in range(len(numbers)):\n",
    "    for j in range(len(numbers)):\n",
    "        if i == j:\n",
    "            continue\n",
    "        else:\n",
    "            if numbers[i] + numbers[j] == sum:\n",
    "                first = numbers[i]\n",
    "                second = numbers[j]\n",
    "                print(\"Pair is \", numbers[i], \" and \", numbers[j])\n"
   ]
  },
  {
   "cell_type": "code",
   "execution_count": 5,
   "metadata": {},
   "outputs": [
    {
     "name": "stdout",
     "output_type": "stream",
     "text": [
      "1184\n",
      "836\n",
      "2020\n"
     ]
    }
   ],
   "source": [
    "print(second)\n",
    "print(first)\n",
    "print(first + second)"
   ]
  },
  {
   "cell_type": "code",
   "execution_count": 6,
   "metadata": {},
   "outputs": [],
   "source": [
    "answer = first * second"
   ]
  },
  {
   "cell_type": "code",
   "execution_count": 7,
   "metadata": {},
   "outputs": [
    {
     "data": {
      "text/plain": [
       "989824"
      ]
     },
     "execution_count": 7,
     "metadata": {},
     "output_type": "execute_result"
    }
   ],
   "source": [
    "answer"
   ]
  }
 ],
 "metadata": {
  "kernelspec": {
   "display_name": "Python 3",
   "language": "python",
   "name": "python3"
  },
  "language_info": {
   "codemirror_mode": {
    "name": "ipython",
    "version": 3
   },
   "file_extension": ".py",
   "mimetype": "text/x-python",
   "name": "python",
   "nbconvert_exporter": "python",
   "pygments_lexer": "ipython3",
   "version": "3.7.3"
  }
 },
 "nbformat": 4,
 "nbformat_minor": 2
}
