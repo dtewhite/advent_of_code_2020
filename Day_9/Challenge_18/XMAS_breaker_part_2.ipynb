{
 "cells": [
  {
   "cell_type": "code",
   "execution_count": 1,
   "metadata": {},
   "outputs": [],
   "source": [
    "with open(\"../Input/input.txt\") as file:\n",
    "    data = [int(l.strip(\"\\n\")) for l in file]"
   ]
  },
  {
   "cell_type": "code",
   "execution_count": 2,
   "metadata": {},
   "outputs": [],
   "source": [
    "def check_sum(array, number):\n",
    "    num_set = set(array)\n",
    "\n",
    "    for i in num_set:\n",
    "        if number - i in num_set:\n",
    "            return True\n",
    "    return False\n",
    "    "
   ]
  },
  {
   "cell_type": "code",
   "execution_count": 3,
   "metadata": {},
   "outputs": [
    {
     "name": "stdout",
     "output_type": "stream",
     "text": [
      "32321523 at index 523 does not conform\n",
      "End of list has been reached\n"
     ]
    }
   ],
   "source": [
    "for i in range(len(data)):\n",
    "    try:\n",
    "        num = data[i + 25]\n",
    "        arr = data[i:i + 25]\n",
    "\n",
    "        if check_sum(arr,num) == False:\n",
    "            print(f\"{num} at index {data.index(num)} does not conform\")\n",
    "            target = num\n",
    "    except IndexError:\n",
    "        print(\"End of list has been reached\")\n",
    "        break"
   ]
  },
  {
   "cell_type": "code",
   "execution_count": 4,
   "metadata": {},
   "outputs": [
    {
     "name": "stdout",
     "output_type": "stream",
     "text": [
      "The smallest in the series is 1145730\n",
      "The largest in the series is 3649251\n",
      "Their sum is 4794981\n"
     ]
    }
   ],
   "source": [
    "for i in range(len(data) - 1):\n",
    "    \n",
    "    complete = False\n",
    "    numbers = [data[i]]\n",
    "    \n",
    "    \n",
    "    for j in range(i + 1, len(data)):\n",
    "        if sum(numbers) == target:\n",
    "            complete = True\n",
    "            break\n",
    "        elif sum(numbers) > target:\n",
    "            break\n",
    "        else:\n",
    "            numbers.append(data[j])\n",
    "    if complete:\n",
    "        print(f\"The smallest in the series is {min(numbers)}\")\n",
    "        print(f\"The largest in the series is {max(numbers)}\")\n",
    "        print(f\"Their sum is {min(numbers) + max(numbers)}\")\n",
    "        break"
   ]
  },
  {
   "cell_type": "code",
   "execution_count": null,
   "metadata": {},
   "outputs": [],
   "source": []
  }
 ],
 "metadata": {
  "kernelspec": {
   "display_name": "Python 3",
   "language": "python",
   "name": "python3"
  },
  "language_info": {
   "codemirror_mode": {
    "name": "ipython",
    "version": 3
   },
   "file_extension": ".py",
   "mimetype": "text/x-python",
   "name": "python",
   "nbconvert_exporter": "python",
   "pygments_lexer": "ipython3",
   "version": "3.7.3"
  }
 },
 "nbformat": 4,
 "nbformat_minor": 2
}
