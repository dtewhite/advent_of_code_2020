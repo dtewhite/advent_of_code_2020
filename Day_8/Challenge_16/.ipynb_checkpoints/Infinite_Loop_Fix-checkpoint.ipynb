{
 "cells": [
  {
   "cell_type": "code",
   "execution_count": 1,
   "metadata": {},
   "outputs": [],
   "source": [
    "with open(\"../Input/input.txt\", \"r\") as file:\n",
    "    data = [ l.strip(\"\\n\").split() for l in file ]"
   ]
  },
  {
   "cell_type": "code",
   "execution_count": 2,
   "metadata": {},
   "outputs": [],
   "source": [
    "jmp_positions  = [ data.index(pos) for pos in data if pos[0] == \"jmp\"]\n",
    "nop_positions = [ data.index(pos) for pos in data if pos[0] == \"nop\"]"
   ]
  },
  {
   "cell_type": "code",
   "execution_count": 3,
   "metadata": {},
   "outputs": [
    {
     "name": "stdout",
     "output_type": "stream",
     "text": [
      "Changing jmp at index 180 worked!\n",
      "733\n"
     ]
    }
   ],
   "source": [
    "# Check about changing JMP positions\n",
    "\n",
    "for position in jmp_positions:\n",
    "    \n",
    "    with open(\"../Input/input.txt\", \"r\") as file:\n",
    "        data = [ l.strip(\"\\n\").split() for l in file ]\n",
    "    \n",
    "    data[position][0] = \"nop\"\n",
    "    \n",
    "    i = 0\n",
    "    used_index = []\n",
    "    accumulator = 0\n",
    "    completed = False\n",
    "    \n",
    "    while i < len(data) + 500:\n",
    "        try:\n",
    "            if i not in used_index:\n",
    "                if data[i][0] == \"acc\":\n",
    "                    used_index.append(i)\n",
    "                    accumulator += int(data[i][1])\n",
    "                    i += 1\n",
    "                elif data[i][0] == \"nop\":\n",
    "                    used_index.append(i)\n",
    "                    i += 1\n",
    "                elif data[i][0] == \"jmp\":\n",
    "                    used_index.append(i)\n",
    "                    i += int(data[i][1])\n",
    "            elif i in used_index:\n",
    "                break\n",
    "        except IndexError:\n",
    "            print(f'Changing jmp at index {position} worked!')\n",
    "            print(accumulator)\n",
    "            break"
   ]
  },
  {
   "cell_type": "code",
   "execution_count": 4,
   "metadata": {},
   "outputs": [],
   "source": [
    "# Check about changing NOP positions\n",
    "\n",
    "for position in nop_positions:\n",
    "    \n",
    "    with open(\"../Input/input.txt\", \"r\") as file:\n",
    "        data = [ l.strip(\"\\n\").split() for l in file ]\n",
    "    \n",
    "    data[position][0] = \"jmp\"\n",
    "    \n",
    "    i = 0\n",
    "    used_index = []\n",
    "    current_index = 0\n",
    "    accumulator = 0\n",
    "    \n",
    "    while i < len(data) + 500:\n",
    "        try:\n",
    "            if i not in used_index:\n",
    "                if data[i][0] == \"acc\":\n",
    "                    used_index.append(i)\n",
    "                    accumulator += int(data[i][1])\n",
    "                    i += 1\n",
    "                elif data[i][0] == \"nop\":\n",
    "                    used_index.append(i)\n",
    "                    i += 1\n",
    "                elif data[i][0] == \"jmp\":\n",
    "                    used_index.append(i)\n",
    "                    i += int(data[i][1])\n",
    "            elif i in used_index:\n",
    "                break\n",
    "        except IndexError:\n",
    "            print(f'Changing jmp at index {position} worked!')\n",
    "            print(accumulator)\n",
    "            break\n",
    "\n",
    "            "
   ]
  },
  {
   "cell_type": "code",
   "execution_count": null,
   "metadata": {},
   "outputs": [],
   "source": []
  }
 ],
 "metadata": {
  "kernelspec": {
   "display_name": "Python 3",
   "language": "python",
   "name": "python3"
  },
  "language_info": {
   "codemirror_mode": {
    "name": "ipython",
    "version": 3
   },
   "file_extension": ".py",
   "mimetype": "text/x-python",
   "name": "python",
   "nbconvert_exporter": "python",
   "pygments_lexer": "ipython3",
   "version": "3.7.3"
  }
 },
 "nbformat": 4,
 "nbformat_minor": 2
}
