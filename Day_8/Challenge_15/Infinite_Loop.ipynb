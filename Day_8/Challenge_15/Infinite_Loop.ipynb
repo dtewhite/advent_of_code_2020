{
 "cells": [
  {
   "cell_type": "code",
   "execution_count": 2,
   "metadata": {},
   "outputs": [],
   "source": [
    "with open(\"../Input/input.txt\", \"r\") as file:\n",
    "    data = [ l.strip(\"\\n\").split() for l in file ]"
   ]
  },
  {
   "cell_type": "code",
   "execution_count": 5,
   "metadata": {},
   "outputs": [
    {
     "name": "stdout",
     "output_type": "stream",
     "text": [
      "1753\n"
     ]
    }
   ],
   "source": [
    "i = 0\n",
    "used_index = []\n",
    "current_index = 0\n",
    "accumulator = 0\n",
    "\n",
    "while i < len(data):\n",
    "    if i not in used_index:\n",
    "        if data[i][0] == \"acc\":\n",
    "            used_index.append(i)\n",
    "            accumulator += int(data[i][1])\n",
    "            i += 1\n",
    "        elif data[i][0] == \"nop\":\n",
    "            used_index.append(i)\n",
    "            i += 1\n",
    "        elif data[i][0] == \"jmp\":\n",
    "            used_index.append(i)\n",
    "            i +=int(data[i][1])\n",
    "    else:\n",
    "        break\n",
    "print(accumulator)"
   ]
  },
  {
   "cell_type": "code",
   "execution_count": null,
   "metadata": {},
   "outputs": [],
   "source": []
  }
 ],
 "metadata": {
  "kernelspec": {
   "display_name": "Python 3",
   "language": "python",
   "name": "python3"
  },
  "language_info": {
   "codemirror_mode": {
    "name": "ipython",
    "version": 3
   },
   "file_extension": ".py",
   "mimetype": "text/x-python",
   "name": "python",
   "nbconvert_exporter": "python",
   "pygments_lexer": "ipython3",
   "version": "3.7.3"
  }
 },
 "nbformat": 4,
 "nbformat_minor": 2
}
