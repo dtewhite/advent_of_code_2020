{
 "cells": [
  {
   "cell_type": "code",
   "execution_count": 1,
   "metadata": {},
   "outputs": [],
   "source": [
    "with open(\"../Input/input.txt\", encoding=\"utf-8\") as file:\n",
    "    data = [l.rstrip(\".\\n\").replace(\"contain\",\",\") for l in file]"
   ]
  },
  {
   "cell_type": "code",
   "execution_count": 51,
   "metadata": {},
   "outputs": [],
   "source": [
    "def get_bags(color):\n",
    "    lines = [ line for line in data if color in line and line.index(color) != 0]\n",
    "    \n",
    "    all_colors = []\n",
    "    \n",
    "    if len(lines) == 0:\n",
    "        return []\n",
    "    \n",
    "    else:\n",
    "        colors = [ line[:line.index(' bags')] for line in lines ]\n",
    "        colors = [ color for color in colors if color not in all_colors ]\n",
    "        \n",
    "        for color in colors:\n",
    "            all_colors.append(color)\n",
    "            bags = get_bags(color)\n",
    "            \n",
    "            all_colors += bags\n",
    "            \n",
    "            unique_colors = []\n",
    "            for color in all_colors:\n",
    "                if color not in unique_colors:\n",
    "                    unique_colors.append(color)\n",
    "        return unique_colors"
   ]
  },
  {
   "cell_type": "code",
   "execution_count": 52,
   "metadata": {},
   "outputs": [
    {
     "data": {
      "text/plain": [
       "242"
      ]
     },
     "execution_count": 52,
     "metadata": {},
     "output_type": "execute_result"
    }
   ],
   "source": [
    "answer = get_bags('shiny gold')\n",
    "len(answer)"
   ]
  },
  {
   "cell_type": "code",
   "execution_count": 59,
   "metadata": {},
   "outputs": [],
   "source": [
    "def bag_count(color):\n",
    "    rule = ''\n",
    "    for line in data:\n",
    "        if line[:line.index(' bags')] == color:\n",
    "            rule = line\n",
    "            \n",
    "    if 'no' in rule:\n",
    "        return 1\n",
    "    \n",
    "    rule = rule[(rule.index(\"bags , \", 0,)+7):].split()\n",
    "\n",
    "    i = 0\n",
    "    \n",
    "    total = 0\n",
    "    \n",
    "    while i < len(rule):\n",
    "        count = int(rule[i])\n",
    "        color = rule[i + 1] + \" \" + rule[i + 2]\n",
    "        total += count * bag_count(color)\n",
    "        i += 4\n",
    "    \n",
    "    \n",
    "    return total + 1"
   ]
  },
  {
   "cell_type": "code",
   "execution_count": 61,
   "metadata": {},
   "outputs": [
    {
     "data": {
      "text/plain": [
       "176035"
      ]
     },
     "execution_count": 61,
     "metadata": {},
     "output_type": "execute_result"
    }
   ],
   "source": [
    "bag_count('shiny gold') -1"
   ]
  },
  {
   "cell_type": "code",
   "execution_count": null,
   "metadata": {},
   "outputs": [],
   "source": []
  }
 ],
 "metadata": {
  "kernelspec": {
   "display_name": "Python 3",
   "language": "python",
   "name": "python3"
  },
  "language_info": {
   "codemirror_mode": {
    "name": "ipython",
    "version": 3
   },
   "file_extension": ".py",
   "mimetype": "text/x-python",
   "name": "python",
   "nbconvert_exporter": "python",
   "pygments_lexer": "ipython3",
   "version": "3.7.3"
  }
 },
 "nbformat": 4,
 "nbformat_minor": 2
}
