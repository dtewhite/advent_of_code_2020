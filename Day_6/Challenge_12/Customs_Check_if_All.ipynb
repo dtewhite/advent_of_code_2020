{
 "cells": [
  {
   "cell_type": "code",
   "execution_count": 1,
   "metadata": {},
   "outputs": [],
   "source": [
    "import collections"
   ]
  },
  {
   "cell_type": "code",
   "execution_count": 2,
   "metadata": {},
   "outputs": [],
   "source": [
    "data = []\n",
    "group =[]\n",
    "input = open(\"../Input/input.txt\", mode='r')\n",
    "for line in input.read().split(\"\\n\"):\n",
    "    if line ==\"\":\n",
    "        data.append(group)\n",
    "        group = []\n",
    "    else:\n",
    "        group.append(line)\n",
    "data.append(group)"
   ]
  },
  {
   "cell_type": "code",
   "execution_count": 5,
   "metadata": {},
   "outputs": [
    {
     "data": {
      "text/plain": [
       "3493"
      ]
     },
     "execution_count": 5,
     "metadata": {},
     "output_type": "execute_result"
    }
   ],
   "source": [
    "count = 0\n",
    "for group in data:\n",
    "    c = collections.Counter()\n",
    "    size = len(group)\n",
    "    for i in range(len(group)):\n",
    "        if i < (size-1):\n",
    "            c.update(group[i])\n",
    "        else:\n",
    "            c.update(group[i])\n",
    "            for ele in c:\n",
    "                if c[ele] == size:\n",
    "                    count += 1\n",
    "count"
   ]
  }
 ],
 "metadata": {
  "kernelspec": {
   "display_name": "Python 3",
   "language": "python",
   "name": "python3"
  },
  "language_info": {
   "codemirror_mode": {
    "name": "ipython",
    "version": 3
   },
   "file_extension": ".py",
   "mimetype": "text/x-python",
   "name": "python",
   "nbconvert_exporter": "python",
   "pygments_lexer": "ipython3",
   "version": "3.7.3"
  }
 },
 "nbformat": 4,
 "nbformat_minor": 2
}
