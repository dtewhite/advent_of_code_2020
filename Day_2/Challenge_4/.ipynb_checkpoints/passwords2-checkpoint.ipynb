{
 "cells": [
  {
   "cell_type": "code",
   "execution_count": 1,
   "metadata": {},
   "outputs": [],
   "source": [
    "import pandas as pd"
   ]
  },
  {
   "cell_type": "code",
   "execution_count": 2,
   "metadata": {},
   "outputs": [],
   "source": [
    "passwords_df = pd.read_csv(\"../Input/passwords2.csv\")"
   ]
  },
  {
   "cell_type": "code",
   "execution_count": 3,
   "metadata": {},
   "outputs": [],
   "source": [
    "invalid_count = 0\n",
    "valid_count = 0"
   ]
  },
  {
   "cell_type": "code",
   "execution_count": 4,
   "metadata": {},
   "outputs": [],
   "source": [
    "for i in range(len(passwords_df)):\n",
    "    \n",
    "    first_pos = passwords_df.iloc[i,0]-1\n",
    "    second_pos = passwords_df.iloc[i,1]-1\n",
    "    letter_req = passwords_df.iloc[i,2]\n",
    "    password = passwords_df.iloc[i,3]\n",
    "    \n",
    "    if (letter_req == password[first_pos]) and (letter_req == password[second_pos]):\n",
    "        invalid_count += 1\n",
    "        \n",
    "    elif (letter_req == password[first_pos]) or (letter_req == password[second_pos]):\n",
    "        valid_count += 1\n",
    "        \n",
    "    else:\n",
    "        invalid_count += 1"
   ]
  },
  {
   "cell_type": "code",
   "execution_count": 5,
   "metadata": {},
   "outputs": [
    {
     "name": "stdout",
     "output_type": "stream",
     "text": [
      "There are 503 bad passwords.\n",
      "There are 497 good passwords.\n"
     ]
    }
   ],
   "source": [
    "print(\"There are \" + str(invalid_count) + \" bad passwords.\")\n",
    "print(\"There are \" + str(valid_count) + \" good passwords.\")"
   ]
  },
  {
   "cell_type": "code",
   "execution_count": null,
   "metadata": {},
   "outputs": [],
   "source": []
  }
 ],
 "metadata": {
  "kernelspec": {
   "display_name": "Python 3",
   "language": "python",
   "name": "python3"
  },
  "language_info": {
   "codemirror_mode": {
    "name": "ipython",
    "version": 3
   },
   "file_extension": ".py",
   "mimetype": "text/x-python",
   "name": "python",
   "nbconvert_exporter": "python",
   "pygments_lexer": "ipython3",
   "version": "3.7.3"
  }
 },
 "nbformat": 4,
 "nbformat_minor": 2
}
