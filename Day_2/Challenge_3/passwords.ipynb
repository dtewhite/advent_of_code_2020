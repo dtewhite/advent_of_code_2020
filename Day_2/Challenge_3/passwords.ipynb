{
 "cells": [
  {
   "cell_type": "code",
   "execution_count": 1,
   "metadata": {},
   "outputs": [],
   "source": [
    "import pandas as pd"
   ]
  },
  {
   "cell_type": "code",
   "execution_count": 2,
   "metadata": {},
   "outputs": [],
   "source": [
    "passwords_df = pd.read_csv(\"passwords.csv\")"
   ]
  },
  {
   "cell_type": "code",
   "execution_count": 3,
   "metadata": {},
   "outputs": [],
   "source": [
    "invalid_count = 0\n",
    "valid_count = 0"
   ]
  },
  {
   "cell_type": "code",
   "execution_count": 4,
   "metadata": {},
   "outputs": [],
   "source": [
    "for i in range(len(passwords_df)):\n",
    "    \n",
    "    min_req = passwords_df.iloc[i,0]\n",
    "    max_req = passwords_df.iloc[i,1]\n",
    "    letter_req = passwords_df.iloc[i,2]\n",
    "    password = passwords_df.iloc[i,3]\n",
    "    \n",
    "    letter_counter = {}\n",
    "    \n",
    "    for k in range(len(password)):\n",
    "        if password[k] in letter_counter:\n",
    "            letter_counter[password[k]] += 1\n",
    "        else:\n",
    "            letter_counter[password[k]] = 1\n",
    "    \n",
    "    try:\n",
    "        if (min_req <= letter_counter[letter_req]) and (letter_counter[letter_req] <= max_req):\n",
    "            valid_count += 1\n",
    "        else:\n",
    "            invalid_count += 1\n",
    "    except KeyError:\n",
    "        invalid_count += 1"
   ]
  },
  {
   "cell_type": "code",
   "execution_count": 6,
   "metadata": {},
   "outputs": [
    {
     "name": "stdout",
     "output_type": "stream",
     "text": [
      "There are 472 bad passwords.\n",
      "There are 528 good passwords.\n"
     ]
    }
   ],
   "source": [
    "print(\"There are \" + str(invalid_count) + \" bad passwords.\")\n",
    "print(\"There are \" + str(valid_count) + \" good passwords.\")"
   ]
  },
  {
   "cell_type": "code",
   "execution_count": null,
   "metadata": {},
   "outputs": [],
   "source": []
  }
 ],
 "metadata": {
  "kernelspec": {
   "display_name": "Python 3",
   "language": "python",
   "name": "python3"
  },
  "language_info": {
   "codemirror_mode": {
    "name": "ipython",
    "version": 3
   },
   "file_extension": ".py",
   "mimetype": "text/x-python",
   "name": "python",
   "nbconvert_exporter": "python",
   "pygments_lexer": "ipython3",
   "version": "3.7.3"
  }
 },
 "nbformat": 4,
 "nbformat_minor": 2
}
