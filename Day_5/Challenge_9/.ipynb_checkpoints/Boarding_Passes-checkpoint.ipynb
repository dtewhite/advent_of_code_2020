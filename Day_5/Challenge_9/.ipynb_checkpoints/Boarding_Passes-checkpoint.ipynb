{
 "cells": [
  {
   "cell_type": "code",
   "execution_count": 1,
   "metadata": {},
   "outputs": [],
   "source": [
    "import csv"
   ]
  },
  {
   "cell_type": "code",
   "execution_count": 4,
   "metadata": {},
   "outputs": [
    {
     "name": "stdout",
     "output_type": "stream",
     "text": [
      "901\n"
     ]
    }
   ],
   "source": [
    "highest = 0\n",
    "\n",
    "file = open(\"../Input/input.csv\")\n",
    "for line in csv.reader(file):\n",
    "    \n",
    "    row = [x for x in range(0,128)]\n",
    "    column = [x for x in range (0, 8)]\n",
    "\n",
    "    for i,char in enumerate(line[0]):\n",
    "        if i < 7:\n",
    "            if char == \"B\":\n",
    "                row = row[len(row)//2:]\n",
    "            else:\n",
    "                row = row[:len(row)//2]\n",
    "        else:\n",
    "            if char == \"R\":\n",
    "                column = column[len(column)//2:]\n",
    "            else:\n",
    "                column = column[:len(column)//2]\n",
    "\n",
    "\n",
    "        id = ((int(row[0]) * 8) + int(column[0]))\n",
    "        highest = max(highest, row[0] * 8 + column[0])\n",
    "        \n",
    "print(highest)"
   ]
  }
 ],
 "metadata": {
  "kernelspec": {
   "display_name": "Python 3",
   "language": "python",
   "name": "python3"
  },
  "language_info": {
   "codemirror_mode": {
    "name": "ipython",
    "version": 3
   },
   "file_extension": ".py",
   "mimetype": "text/x-python",
   "name": "python",
   "nbconvert_exporter": "python",
   "pygments_lexer": "ipython3",
   "version": "3.7.3"
  }
 },
 "nbformat": 4,
 "nbformat_minor": 2
}
