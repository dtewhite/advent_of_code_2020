{
 "cells": [
  {
   "cell_type": "code",
   "execution_count": 1,
   "metadata": {},
   "outputs": [],
   "source": [
    "import csv"
   ]
  },
  {
   "cell_type": "code",
   "execution_count": 2,
   "metadata": {},
   "outputs": [],
   "source": [
    "ids = []\n",
    "file = open(\"../Input/input.csv\")\n",
    "for line in csv.reader(file):\n",
    "    \n",
    "    row = [x for x in range(0,128)]\n",
    "    column = [x for x in range (0, 8)]\n",
    "\n",
    "    for i,char in enumerate(line[0]):\n",
    "        if i < 7:\n",
    "            if char == \"B\":\n",
    "                row = row[len(row)//2:]\n",
    "            else:\n",
    "                row = row[:len(row)//2]\n",
    "        else:\n",
    "            if char == \"R\":\n",
    "                column = column[len(column)//2:]\n",
    "            else:\n",
    "                column = column[:len(column)//2]\n",
    "\n",
    "\n",
    "    ids.append(((int(row[0]) * 8) + int(column[0])))"
   ]
  },
  {
   "cell_type": "code",
   "execution_count": 3,
   "metadata": {},
   "outputs": [
    {
     "name": "stdout",
     "output_type": "stream",
     "text": [
      "902\n"
     ]
    }
   ],
   "source": [
    "for x in range(len(ids)):\n",
    "    if ids[x] + 1 not in ids:\n",
    "        print(ids[x] + 1)\n",
    "        break"
   ]
  },
  {
   "cell_type": "code",
   "execution_count": null,
   "metadata": {},
   "outputs": [],
   "source": []
  }
 ],
 "metadata": {
  "kernelspec": {
   "display_name": "Python 3",
   "language": "python",
   "name": "python3"
  },
  "language_info": {
   "codemirror_mode": {
    "name": "ipython",
    "version": 3
   },
   "file_extension": ".py",
   "mimetype": "text/x-python",
   "name": "python",
   "nbconvert_exporter": "python",
   "pygments_lexer": "ipython3",
   "version": "3.7.3"
  }
 },
 "nbformat": 4,
 "nbformat_minor": 2
}
