{
 "cells": [
  {
   "cell_type": "code",
   "execution_count": 1,
   "metadata": {},
   "outputs": [],
   "source": [
    "import re"
   ]
  },
  {
   "cell_type": "code",
   "execution_count": 3,
   "metadata": {},
   "outputs": [
    {
     "name": "stdout",
     "output_type": "stream",
     "text": [
      "101\n"
     ]
    }
   ],
   "source": [
    "valids = 0\n",
    "keys = [\"byr\",\"iyr\",\"eyr\",\"hgt\",\"hcl\",\"ecl\",\"pid\"]\n",
    "file = open('../Input/passports.txt',mode='r')\n",
    "for line in  file.read().split(\"\\n\\n\"):\n",
    "    line = line.replace(\"\\n\", \" \")\n",
    "    if all(key + \":\" in line for key in keys):\n",
    "        passport = {k:v for part in line.split(\" \") for k,v in [part.split(\":\")] }\n",
    "        if (\n",
    "            int(passport['byr']) >= 1920 and int(passport['byr']) <= 2002 and \n",
    "            int(passport['iyr']) >= 2010 and int(passport['iyr']) <= 2020 and\n",
    "            int(passport['eyr']) >= 2020 and int(passport['eyr']) <= 2030 and\n",
    "            re.match(\"^(1([5-8][0-9]|9[0-3])cm|(59|[6][0-9]|[7][0-6])in)$\",passport['hgt']) and\n",
    "            re.match(\"#[0-9a-f]{6}\",passport['hcl']) and\n",
    "            re.match(\"^(amb|blu|brn|gry|grn|hzl|oth)$\", passport['ecl']) and\n",
    "            re.match(\"^\\d{9}$\", passport['pid'])\n",
    "        ):\n",
    "            valids += 1\n",
    "print(valids)"
   ]
  },
  {
   "cell_type": "code",
   "execution_count": 4,
   "metadata": {},
   "outputs": [
    {
     "data": {
      "text/plain": [
       "{'iyr': '2017',\n",
       " 'ecl': 'blu',\n",
       " 'byr': '1942',\n",
       " 'hcl': '#733820',\n",
       " 'eyr': '2023',\n",
       " 'hgt': '151cm',\n",
       " 'pid': '289923625'}"
      ]
     },
     "execution_count": 4,
     "metadata": {},
     "output_type": "execute_result"
    }
   ],
   "source": [
    "passport"
   ]
  },
  {
   "cell_type": "code",
   "execution_count": null,
   "metadata": {},
   "outputs": [],
   "source": []
  }
 ],
 "metadata": {
  "kernelspec": {
   "display_name": "Python 3",
   "language": "python",
   "name": "python3"
  },
  "language_info": {
   "codemirror_mode": {
    "name": "ipython",
    "version": 3
   },
   "file_extension": ".py",
   "mimetype": "text/x-python",
   "name": "python",
   "nbconvert_exporter": "python",
   "pygments_lexer": "ipython3",
   "version": "3.7.3"
  }
 },
 "nbformat": 4,
 "nbformat_minor": 2
}
