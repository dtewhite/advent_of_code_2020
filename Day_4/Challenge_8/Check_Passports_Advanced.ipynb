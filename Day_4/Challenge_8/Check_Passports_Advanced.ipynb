{
 "cells": [
  {
   "cell_type": "code",
   "execution_count": 34,
   "metadata": {},
   "outputs": [],
   "source": [
    "import csv"
   ]
  },
  {
   "cell_type": "code",
   "execution_count": 35,
   "metadata": {},
   "outputs": [],
   "source": [
    "passports = []\n",
    "with open('../Input/passports.csv', 'r') as read_object:\n",
    "    csv_reader = csv.reader(read_object)\n",
    "    passports = list(csv_reader)"
   ]
  },
  {
   "cell_type": "code",
   "execution_count": 36,
   "metadata": {},
   "outputs": [],
   "source": [
    "grouped_passports = []\n",
    "ind_passport = []\n",
    "\n",
    "for i in range(len(passports)):\n",
    "    if passports[i] == []:\n",
    "        grouped_passports.append(flat_list)\n",
    "        ind_passport = []\n",
    "        flat_list = []\n",
    "    else:\n",
    "        line = passports[i][0].split(\":\")\n",
    "        for i in range(len(line)):\n",
    "            ind_passport.append(line[i].split())\n",
    "        flat_list = [item for sublist in ind_passport for item in sublist]"
   ]
  },
  {
   "cell_type": "code",
   "execution_count": 71,
   "metadata": {},
   "outputs": [],
   "source": [
    "byr_rules = 1920 <= int(grouped_passports[i][(grouped_passports[i].index(\"byr\") + 1)]) and int(grouped_passports[i][(grouped_passports[i].index(\"byr\") + 1)]) <= 2002\n",
    "iyr_rules = 2010 <= int(grouped_passports[i][(grouped_passports[i].index(\"iyr\") + 1)]) and int(grouped_passports[i][(grouped_passports[i].index(\"iyr\") + 1)]) <= 2020\n",
    "eyr_rules = 2020 <= int(grouped_passports[i][(grouped_passports[i].index(\"eyr\") + 1)]) and int(grouped_passports[i][(grouped_passports[i].index(\"eyr\") + 1)]) <= 2030\n",
    "hgt_rules_cm = 150 <= int(grouped_passports[i][(grouped_passports[i].index(\"hgt\") + 1)][:-2]) and int(grouped_passports[i][(grouped_passports[i].index(\"hgt\") + 1)][:-2]) <= 193\n",
    "hgt_rules_in = 59 <= int(grouped_passports[i][(grouped_passports[i].index(\"hgt\") + 1)][:-2]) and int(grouped_passports[i][(grouped_passports[i].index(\"hgt\") + 1)][:-2]) <= 76\n",
    "hcl_rules = len(grouped_passports[i][(grouped_passports[i].index(\"hcl\") + 1)]) == 7\n",
    "ecl_rules = grouped_passports[i][(grouped_passports[i].index(\"ecl\") + 1)] in [\"amb\", \"blu\", \"brn\", \"gry\", \"grn\", \"hzl\", \"oth\"]\n",
    "pid_rules = len(grouped_passports[6][(grouped_passports[6].index(\"pid\") + 1)]) == 9                 "
   ]
  },
  {
   "cell_type": "code",
   "execution_count": 75,
   "metadata": {},
   "outputs": [],
   "source": [
    "count_invalid = 1\n",
    "count_valid = 1\n",
    "\n",
    "for i in range(len(grouped_passports)):\n",
    "    if((\"byr\" in grouped_passports[i]) and (\"iyr\" in grouped_passports[i]) and (\"eyr\" in grouped_passports[i])\n",
    "      and (\"hgt\" in grouped_passports[i]) and (\"hcl\" in grouped_passports[i]) and (\"ecl\" in grouped_passports[i])\n",
    "      and (\"pid\" in grouped_passports[i])):\n",
    "        if(grouped_passports[i][(grouped_passports[i].index(\"hgt\") + 1)][-2:] == 'cm'):\n",
    "            if(byr_rules and iyr_rules and eyr_rules and hgt_rules_cm and hcl_rules and ecl_rules and pid_rules):\n",
    "                count_valid += 1\n",
    "            else:\n",
    "                count_invalid += 1\n",
    "        elif(grouped_passports[i][(grouped_passports[i].index(\"hgt\") + 1)][-2:] == 'in'):\n",
    "            if(byr_rules and iyr_rules and eyr_rules and hgt_rules_in and hcl_rules and ecl_rules and pid_rules):\n",
    "                count_valid += 1\n",
    "            else:\n",
    "                count_invalid += 1\n",
    "        else:\n",
    "            count_invalid += 1\n",
    "    else:\n",
    "        count_invalid += 1"
   ]
  },
  {
   "cell_type": "code",
   "execution_count": 76,
   "metadata": {},
   "outputs": [
    {
     "name": "stdout",
     "output_type": "stream",
     "text": [
      "There are 31 valid passports.\n",
      "There are 229 invalid passports.\n",
      "There are is a total count of 258\n"
     ]
    }
   ],
   "source": [
    "print(\"There are \" + str(count_valid) + \" valid passports.\")\n",
    "print(\"There are \" + str(count_invalid) + \" invalid passports.\")\n",
    "print(\"There are is a total count of \" + str(len(grouped_passports)))"
   ]
  }
 ],
 "metadata": {
  "kernelspec": {
   "display_name": "Python 3",
   "language": "python",
   "name": "python3"
  },
  "language_info": {
   "codemirror_mode": {
    "name": "ipython",
    "version": 3
   },
   "file_extension": ".py",
   "mimetype": "text/x-python",
   "name": "python",
   "nbconvert_exporter": "python",
   "pygments_lexer": "ipython3",
   "version": "3.7.3"
  }
 },
 "nbformat": 4,
 "nbformat_minor": 2
}
